{
 "cells": [
  {
   "cell_type": "markdown",
   "metadata": {},
   "source": [
    "# Example 2: Searching Through Your Archive\n",
    "\n",
    "This example covers the basics of searching through your `Archive` metadata fields, using the `.csv` files generated in Example 1. This will introduce you to most of the methods in the `Archive` object, as well as some of the extra tools stored in `tools.py`."
   ]
  },
  {
   "cell_type": "code",
   "execution_count": null,
   "metadata": {},
   "outputs": [],
   "source": [
    "import MetaViz as mv\n",
    "album = mv.Archive()"
   ]
  },
  {
   "cell_type": "markdown",
   "metadata": {},
   "source": [
    "## Performing a search\n",
    "\n",
    "Now that we've setup our package in the last example, we can now begin playing around with metadata! First, let's try some simple searches.\n",
    "\n",
    "The `album` object contains two central functions for interfacing with your collection's metadata:\n",
    "\n",
    "1. **`FindSource(searchterms)`**: Basic search function which will return any filenames whose metadata contains the terms specified in a list of `searchterms`. Several optional filters, such as `fields` and `subfolders` allow for a more refined search, which will only look for the terms inside certain metadata fields or subfolders.\n",
    "\n",
    "2. **`GrabData()`**: Grabs all of the metadata into a `Pandas.DataFrame()`. The optional filter `fields` allows you to specify which fields you want returned, and results can be refined to only include certain files or date ranges.\n",
    "\n",
    "Because these two functions have slightly different filter options for refining results, the combination of them can be used for fairly complex searches."
   ]
  },
  {
   "cell_type": "markdown",
   "metadata": {},
   "source": [
    "## Starting simple\n",
    "\n",
    "First, let's search through our imaginary metadata to find any mentions of some terms. Here, let's look for mentions of the cities *Austin*, *Oxford*, and *Singapore*. By default, this will look in all metadata fields available in our csv's.\n",
    "\n",
    "The output will be a list of filenames (excluding the folder path) whose metadata contain any of these terms."
   ]
  },
  {
   "cell_type": "code",
   "execution_count": null,
   "metadata": {},
   "outputs": [],
   "source": [
    "terms = ['Austin','Oxford','Singapore'] # Terms for which to look\n",
    "\n",
    "FileNames = album.FindSource(terms)\n",
    "print(FileNames)"
   ]
  },
  {
   "cell_type": "markdown",
   "metadata": {},
   "source": [
    "## Refining our search\n",
    "\n",
    "Now, let's refine our search to be more specific. Because all our keywords are city names, perhaps we'd like to see which files were taken in these locations. We can do this by restricting our search to the *Coverage* XMP field.\n",
    "\n",
    "Additionally, we can refine our search into specific sub-folders of our repository. Here we refine to *Travel*.\n",
    "\n",
    "All of these inputs are as lists, and accept multiple entries.\n",
    "\n",
    "**Note: If the full path to files is desired, rather than just the filename, set flag `withPath = True`** "
   ]
  },
  {
   "cell_type": "code",
   "execution_count": null,
   "metadata": {},
   "outputs": [],
   "source": [
    "terms = ['Austin','Oxford','Singapore'] # Terms for which to look\n",
    "fields = ['Coverage'] # XMP fields in which to look\n",
    "subfolders = ['Travel'] # Sub-folders in which to search\n",
    "\n",
    "FileNames = album.FindSource(terms, fields, subfolders)\n",
    "print(FileNames)"
   ]
  },
  {
   "cell_type": "markdown",
   "metadata": {},
   "source": [
    "## Complex search criteria\n",
    "\n",
    "Note that, by default, `FindSource` returns filenames containing **any** one of our search terms inside the requested metadata fields. This makes sense for locations, as photos can only be taken in one place. However, perhaps for a different kind of keyword, we only want to find files in which **all** of the keywords appear. How can we do that?\n",
    "\n",
    "There are a couple ways to do this. One simple option is to use `FindSource` with the `include_all` flag set to `True`.\n",
    "\n",
    "Let's look for every file that mentions **both** *Kodak* and *Polaroid* in the description of the file."
   ]
  },
  {
   "cell_type": "code",
   "execution_count": null,
   "metadata": {},
   "outputs": [],
   "source": [
    "terms = ['Kodak','Polaroid'] # Terms for which to look\n",
    "fields = ['Description'] # XMP fields in which to look\n",
    "\n",
    "FileNames = album.FindSource(terms, fields, include_all=True)\n",
    "print(FileNames)"
   ]
  },
  {
   "cell_type": "markdown",
   "metadata": {},
   "source": [
    "As long as your keywords are relatively simple (don't include a lot of regex wildcards) this should do the job. However, this option isn't ideal in many applications. For example, the `include_all` flag only works inside one metadata field, so if you have multiple fields in which the keywords can appear, this function will fail. Similarly, it gets messy if there are certain wildcards in your search terms, especially at the edge of keywords.\n",
    "\n",
    "A better option is to combine multiple searches, using the list combination functions available in `tools.py`. Specifically, the functions `IntersectLists` and `DifferenceLists` can be used in conjunction to create some very complex searches. `IntersectLists` will find all filenames that appear in both lists, and `DifferenceLists` can find all files that appear in one or the other lists (but not both).\n",
    "\n",
    "Let's try the above search again, except let's allow the terms to appear anywhere in the metadata fields."
   ]
  },
  {
   "cell_type": "code",
   "execution_count": null,
   "metadata": {},
   "outputs": [],
   "source": [
    "first = album.FindSource(['Kodak'])\n",
    "second = album.FindSource(['Polaroid'])\n",
    "\n",
    "both = mv.IntersectLists([first, second])"
   ]
  },
  {
   "cell_type": "markdown",
   "metadata": {},
   "source": [
    "Perhaps the simplest application for `DifferenceLists` is searching for terms that often appear inside other words. For example, perhaps you have a lot of photos of your friend *Antonio*, but you don't want your search to return all those photos you took in *San Antonio*. "
   ]
  },
  {
   "cell_type": "code",
   "execution_count": null,
   "metadata": {},
   "outputs": [],
   "source": [
    "first = album.FindSource(['Antonio'])\n",
    "second = album.FindSource(['San Antonio'])\n",
    "\n",
    "either = mv.DifferenceLists([first, second])"
   ]
  },
  {
   "cell_type": "markdown",
   "metadata": {},
   "source": [
    "## Accessing other metadata\n",
    "\n",
    "Up to now we've only been grabbing filenames. However, by using the `GrabData` function, we can load any or all of our metadata fields.\n",
    "\n",
    "If left blank, the default output grabs all available metadata into a `Pandas.DataFrame()`."
   ]
  },
  {
   "cell_type": "code",
   "execution_count": null,
   "metadata": {},
   "outputs": [],
   "source": [
    "data = album.GrabData()\n",
    "print(data)"
   ]
  },
  {
   "cell_type": "markdown",
   "metadata": {},
   "source": [
    "We can also combine this function with our outputs from `FindSource` to grab the metadata only for the results of our earlier search queries. We can also choose which metadata fields to return. Using our list of `FileNames` we found earlier, let's return the `CreateDate` for all of those files:"
   ]
  },
  {
   "cell_type": "code",
   "execution_count": null,
   "metadata": {},
   "outputs": [],
   "source": [
    "data = album.GrabData(FileNames, fields=['CreateDate'])\n",
    "print(data)"
   ]
  },
  {
   "cell_type": "markdown",
   "metadata": {},
   "source": [
    "## Filtering by date\n",
    "\n",
    "Of particular note, `GrabData` allows users to filter results to certain date ranges by specifying a `startdate` and `enddate`. This can be used to add another layer of refinement to searches. \n",
    "\n",
    "Returning to our earlier search query, one could easily implement a date range on that search as follows:"
   ]
  },
  {
   "cell_type": "code",
   "execution_count": null,
   "metadata": {},
   "outputs": [],
   "source": [
    "terms = ['Austin','Oxford','Singapore'] # Terms for which to look\n",
    "fields = ['Coverage'] # XMP fields in which to look\n",
    "subfolders = ['Travel'] # Sub-folders in which to search\n",
    "startdate = '19990301_120000' # Beginning date, YYYYmmdd_HHMMSS\n",
    "enddate = '20050915_180000' # End date, YYYYmmdd_HHMMSS\n",
    "\n",
    "FileNames = album.FindSource(terms, fields, subfolders)\n",
    "FileNames = album.GrabData(FileNames, fields=['SourceFile'],\n",
    "                           startdate=startdate,\n",
    "                           enddate=enddate).tolist()\n",
    "print(FileNames)"
   ]
  },
  {
   "cell_type": "markdown",
   "metadata": {},
   "source": [
    "## Copying files\n",
    "\n",
    "Lastly, while many of these features will be useful for plotting routines in the next example, perhaps your goal is even simpler: maybe you just want to find all the pictures you took on a family vacation and send them to someone else who was there.\n",
    "\n",
    "Once you have a list of filenames, it's very simple to copy those files into a specific folder somewhere else on your computer. Just specify a destination location (which need not exist yet), and call `CopyFiles`.\n",
    "\n",
    "**Note: It is important for `CopyFiles` to specify filenames with their full paths, i.e. `withPath = True`**"
   ]
  },
  {
   "cell_type": "markdown",
   "metadata": {},
   "source": [
    "dst = r'/Pictures/FamilyVacations' # relative or abs path\n",
    "\n",
    "mv.CopyFiles(FileNames, dst)"
   ]
  }
 ],
 "metadata": {
  "kernelspec": {
   "display_name": "Python 3",
   "language": "python",
   "name": "python3"
  },
  "language_info": {
   "codemirror_mode": {
    "name": "ipython",
    "version": 3
   },
   "file_extension": ".py",
   "mimetype": "text/x-python",
   "name": "python",
   "nbconvert_exporter": "python",
   "pygments_lexer": "ipython3",
   "version": "3.8.3"
  }
 },
 "nbformat": 4,
 "nbformat_minor": 4
}
