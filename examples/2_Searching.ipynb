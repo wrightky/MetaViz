{
 "cells": [
  {
   "cell_type": "markdown",
   "metadata": {},
   "source": [
    "# Example 2: Searching Through Your Archive\n",
    "\n",
    "This example covers the basics of searching through your `Archive` metadata fields, using the `.csv` files generated in Example 1. This will introduce you to most of the methods in the `Archive` object, as well as some of the extra tools stored in `tools.py`."
   ]
  },
  {
   "cell_type": "code",
   "execution_count": null,
   "metadata": {},
   "outputs": [],
   "source": [
    "import os\n",
    "import pandas as pd\n",
    "import numpy as np\n",
    "import matplotlib.pyplot as plt\n",
    "%matplotlib inline\n",
    "\n",
    "import MetaViz as mv\n",
    "album = mv.Archive()"
   ]
  },
  {
   "cell_type": "markdown",
   "metadata": {},
   "source": [
    "## Performing a search\n",
    "\n",
    "Now that we've setup our package in the last example, we can now begin playing around with metadata! First, let's try some simple searches.\n",
    "\n",
    "The `album` object contains two central functions for interfacing with your collection's metadata:\n",
    "\n",
    "1. **`FindSource(searchterms)`**: Basic search function which will return any filenames whose metadata contains the terms specified in a list of `searchterms`. Several optional filters, such as `fields` and `subfolders` allow for a more refined search, which will only look for the terms inside certain metadata fields or subfolders.\n",
    "\n",
    "2. **`GrabData()`**: Grabs all of the metadata into a Pandas `DataFrame()`. The optional filter `fields` allows you to specify which fields you want returned, and results can be refined to only include certain files or date ranges.\n",
    "\n",
    "Because these two functions have slightly different filter options for refining results, the combination of them can be used for fairly complex searches."
   ]
  },
  {
   "cell_type": "code",
   "execution_count": null,
   "metadata": {},
   "outputs": [],
   "source": []
  }
 ],
 "metadata": {
  "kernelspec": {
   "display_name": "Python 3",
   "language": "python",
   "name": "python3"
  },
  "language_info": {
   "codemirror_mode": {
    "name": "ipython",
    "version": 3
   },
   "file_extension": ".py",
   "mimetype": "text/x-python",
   "name": "python",
   "nbconvert_exporter": "python",
   "pygments_lexer": "ipython3",
   "version": "3.8.3"
  }
 },
 "nbformat": 4,
 "nbformat_minor": 4
}
